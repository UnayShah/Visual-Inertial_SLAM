{
  "cells": [
    {
      "cell_type": "code",
      "execution_count": 1,
      "metadata": {
        "colab": {
          "base_uri": "https://localhost:8080/"
        },
        "id": "5xwi1QSl25FD",
        "outputId": "682e2542-4a81-41f8-cdfd-22fd8ad7a462"
      },
      "outputs": [
        {
          "name": "stdout",
          "output_type": "stream",
          "text": [
            "Looking in indexes: https://pypi.org/simple, https://us-python.pkg.dev/colab-wheels/public/simple/\n",
            "Requirement already satisfied: transforms3d in /usr/local/lib/python3.9/dist-packages (0.4.1)\n"
          ]
        }
      ],
      "source": [
        "!pip install transforms3d"
      ]
    },
    {
      "cell_type": "markdown",
      "metadata": {
        "id": "rwtyaXDn110x"
      },
      "source": [
        "# Project 3: Visual-Inertial SLAM"
      ]
    },
    {
      "cell_type": "markdown",
      "metadata": {
        "id": "obLDIM-f7uUa"
      },
      "source": [
        "## Provided Functions pr3_u"
      ]
    },
    {
      "cell_type": "code",
      "execution_count": 1,
      "metadata": {
        "id": "7fQgRY4p2zuT"
      },
      "outputs": [],
      "source": [
        "import numpy as np\n",
        "import matplotlib.pyplot as plt\n",
        "from transforms3d.euler import mat2euler\n",
        "\n",
        "def load_data(file_name):\n",
        "    '''\n",
        "    function to read visual features, IMU measurements, and calibration parameters\n",
        "    Input:\n",
        "        file_name: the input data file. Should look like \"XX.npz\"\n",
        "    Output:\n",
        "        t: time stamp\n",
        "            with shape 1*t\n",
        "        features: visual feature point coordinates in stereo images, \n",
        "            with shape 4*n*t, where n is number of features\n",
        "        linear_velocity: velocity measurements in IMU frame\n",
        "            with shape 3*t\n",
        "        angular_velocity: angular velocity measurements in IMU frame\n",
        "            with shape 3*t\n",
        "        K: (left)camera intrinsic matrix\n",
        "            with shape 3*3\n",
        "        b: stereo camera baseline\n",
        "            with shape 1\n",
        "        imu_T_cam: extrinsic transformation from (left) camera to imu frame, in SE(3).\n",
        "            with shape 4*4\n",
        "    '''\n",
        "    with np.load(file_name) as data:\n",
        "    \n",
        "        t = data[\"time_stamps\"] # time_stamps\n",
        "        features = data[\"features\"] # 4 x num_features : pixel coordinates of the visual features\n",
        "        linear_velocity = data[\"linear_velocity\"] # linear velocity in body-frame coordinates\n",
        "        angular_velocity = data[\"angular_velocity\"] # angular velocity in body-frame coordinates\n",
        "        K = data[\"K\"] # intrinsic calibration matrix\n",
        "        b = data[\"b\"] # baseline\n",
        "        imu_T_cam = data[\"imu_T_cam\"] # transformation from left camera frame to imu frame \n",
        "    \n",
        "    return t,features,linear_velocity,angular_velocity,K,b,imu_T_cam\n",
        "\n",
        "\n",
        "def visualize_trajectory_2d(pose,path_name=\"Unknown\",show_ori=False):\n",
        "    '''\n",
        "    function to visualize the trajectory in 2D\n",
        "    Input:\n",
        "        pose:   4*4*N matrix representing the camera pose, \n",
        "                where N is the number of poses, and each\n",
        "                4*4 matrix is in SE(3)\n",
        "    '''\n",
        "    fig,ax = plt.subplots(figsize=(5,5))\n",
        "    n_pose = pose.shape[2]\n",
        "    ax.plot(pose[0,3,:],pose[1,3,:],'r-',label=path_name)\n",
        "    ax.scatter(pose[0,3,0],pose[1,3,0],marker='s',label=\"start\")\n",
        "    ax.scatter(pose[0,3,-1],pose[1,3,-1],marker='o',label=\"end\")\n",
        "  \n",
        "    if show_ori:\n",
        "        select_ori_index = list(range(0,n_pose,max(int(n_pose/50), 1)))\n",
        "        yaw_list = []\n",
        "        \n",
        "        for i in select_ori_index:\n",
        "            _,_,yaw = mat2euler(pose[:3,:3,i])\n",
        "            yaw_list.append(yaw)\n",
        "    \n",
        "        dx = np.cos(yaw_list)\n",
        "        dy = np.sin(yaw_list)\n",
        "        dx,dy = [dx,dy]/np.sqrt(dx**2+dy**2)\n",
        "        ax.quiver(pose[0,3,select_ori_index],pose[1,3,select_ori_index],dx,dy,\\\n",
        "            color=\"b\",units=\"xy\",width=1)\n",
        "    \n",
        "    ax.set_xlabel('x')\n",
        "    ax.set_ylabel('y')\n",
        "    ax.axis('equal')\n",
        "    ax.grid(False)\n",
        "    ax.legend()\n",
        "    # plt.show(block=True)\n",
        "\n",
        "    return fig, ax\n",
        "\n",
        "\n",
        "\n",
        "\n",
        "def projection(ph):\n",
        "  '''\n",
        "  ph = n x 4 = homogeneous point coordinates\n",
        "  r = n x 4 = ph/ph[...,2] = normalized z axis coordinates\n",
        "  '''  \n",
        "  return ph/ph[...,2,None]\n",
        "  \n",
        "def projectionJacobian(ph):\n",
        "  '''\n",
        "  ph = n x 4 = homogeneous point coordinates\n",
        "  J = n x 4 x 4 = Jacobian of ph/ph[...,2]\n",
        "  '''  \n",
        "  J = np.zeros(ph.shape+(4,))\n",
        "  iph2 = 1.0/ph[...,2]\n",
        "  ph2ph2 = ph[...,2]**2\n",
        "  J[...,0,0], J[...,1,1],J[...,3,3] = iph2,iph2,iph2\n",
        "  J[...,0,2] = -ph[...,0]/ph2ph2\n",
        "  J[...,1,2] = -ph[...,1]/ph2ph2\n",
        "  J[...,3,2] = -ph[...,3]/ph2ph2\n",
        "  return J\n",
        "\n",
        "\n",
        "def inversePose(T):\n",
        "  '''\n",
        "  @Input:\n",
        "    T = n x 4 x 4 = n elements of SE(3)\n",
        "  @Output:\n",
        "    iT = n x 4 x 4 = inverse of T\n",
        "  '''\n",
        "  iT = np.empty_like(T)\n",
        "  iT[...,0,0], iT[...,0,1], iT[...,0,2] = T[...,0,0], T[...,1,0], T[...,2,0] \n",
        "  iT[...,1,0], iT[...,1,1], iT[...,1,2] = T[...,0,1], T[...,1,1], T[...,2,1] \n",
        "  iT[...,2,0], iT[...,2,1], iT[...,2,2] = T[...,0,2], T[...,1,2], T[...,2,2]\n",
        "  iT[...,:3,3] = -np.squeeze(iT[...,:3,:3] @ T[...,:3,3,None])\n",
        "  iT[...,3,:] = T[...,3,:]\n",
        "  return iT\n",
        "\n",
        "\n",
        "def axangle2skew(a):\n",
        "  '''\n",
        "  converts an n x 3 axis-angle to an n x 3 x 3 skew symmetric matrix \n",
        "  '''\n",
        "  S = np.empty(a.shape[:-1]+(3,3))\n",
        "  S[...,0,0].fill(0)\n",
        "  S[...,0,1] =-a[...,2]\n",
        "  S[...,0,2] = a[...,1]\n",
        "  S[...,1,0] = a[...,2]\n",
        "  S[...,1,1].fill(0)\n",
        "  S[...,1,2] =-a[...,0]\n",
        "  S[...,2,0] =-a[...,1]\n",
        "  S[...,2,1] = a[...,0]\n",
        "  S[...,2,2].fill(0)\n",
        "  return S\n",
        "\n",
        "def axangle2twist(x):\n",
        "  '''\n",
        "  @Input:\n",
        "    x = n x 6 = n elements of position and axis-angle\n",
        "  @Output:\n",
        "    T = n x 4 x 4 = n elements of se(3)\n",
        "  '''\n",
        "  T = np.zeros(x.shape[:-1]+(4,4))\n",
        "  T[...,0,1] =-x[...,5]\n",
        "  T[...,0,2] = x[...,4]\n",
        "  T[...,0,3] = x[...,0]\n",
        "  T[...,1,0] = x[...,5]\n",
        "  T[...,1,2] =-x[...,3]\n",
        "  T[...,1,3] = x[...,1]\n",
        "  T[...,2,0] =-x[...,4]\n",
        "  T[...,2,1] = x[...,3]\n",
        "  T[...,2,3] = x[...,2]\n",
        "  return T\n",
        "\n",
        "def twist2axangle(T):\n",
        "  '''\n",
        "  converts an n x 4 x 4 twist (se3) matrix to an n x 6 axis-angle \n",
        "  '''\n",
        "  return T[...,[0,1,2,2,0,1],[3,3,3,1,2,0]]\n",
        "\n",
        "def axangle2adtwist(x):\n",
        "  '''\n",
        "  @Input:\n",
        "    x = n x 6 = n elements of position and axis-angle\n",
        "  @Output:\n",
        "    A = n x 6 x 6 = n elements of ad(se(3))\n",
        "  '''\n",
        "  A = np.zeros(x.shape+(6,))\n",
        "  A[...,0,1] =-x[...,5]\n",
        "  A[...,0,2] = x[...,4]\n",
        "  A[...,0,4] =-x[...,2]\n",
        "  A[...,0,5] = x[...,1]\n",
        "  \n",
        "  A[...,1,0] = x[...,5]\n",
        "  A[...,1,2] =-x[...,3]\n",
        "  A[...,1,3] = x[...,2]\n",
        "  A[...,1,5] =-x[...,0]\n",
        "  \n",
        "  A[...,2,0] =-x[...,4]\n",
        "  A[...,2,1] = x[...,3]\n",
        "  A[...,2,3] =-x[...,1]\n",
        "  A[...,2,4] = x[...,0]\n",
        "  \n",
        "  A[...,3,4] =-x[...,5] \n",
        "  A[...,3,5] = x[...,4] \n",
        "  A[...,4,3] = x[...,5]\n",
        "  A[...,4,5] =-x[...,3]   \n",
        "  A[...,5,3] =-x[...,4]\n",
        "  A[...,5,4] = x[...,3]\n",
        "  return A\n",
        "\n",
        "def twist2pose(T):\n",
        "  '''\n",
        "  converts an n x 4 x 4 twist (se3) matrix to an n x 4 x 4 pose (SE3) matrix \n",
        "  '''\n",
        "  rotang = np.sqrt(np.sum(T[...,[2,0,1],[1,2,0]]**2,axis=-1)[...,None,None]) # n x 1\n",
        "  Tn = np.nan_to_num(T / rotang)\n",
        "  Tn2 = Tn@Tn\n",
        "  Tn3 = Tn@Tn2\n",
        "  eye = np.zeros_like(T)\n",
        "  eye[...,[0,1,2,3],[0,1,2,3]] = 1.0\n",
        "  return eye + T + (1.0 - np.cos(rotang))*Tn2 + (rotang - np.sin(rotang))*Tn3\n",
        "  \n",
        "def axangle2pose(x):\n",
        "  '''\n",
        "  @Input:\n",
        "    x = n x 6 = n elements of position and axis-angle\n",
        "  @Output:\n",
        "    T = n x 4 x 4 = n elements of SE(3)\n",
        "  '''\n",
        "  return twist2pose(axangle2twist(x))\n",
        "\n",
        "\n",
        "def pose2adpose(T):\n",
        "  '''\n",
        "  converts an n x 4 x 4 pose (SE3) matrix to an n x 6 x 6 adjoint pose (ad(SE3)) matrix \n",
        "  '''\n",
        "  calT = np.empty(T.shape[:-2]+(6,6))\n",
        "  calT[...,:3,:3] = T[...,:3,:3]\n",
        "  calT[...,:3,3:] = axangle2skew(T[...,:3,3]) @ T[...,:3,:3]\n",
        "  calT[...,3:,:3] = np.zeros(T.shape[:-2]+(3,3))\n",
        "  calT[...,3:,3:] = T[...,:3,:3]\n",
        "  return calT\n"
      ]
    },
    {
      "cell_type": "markdown",
      "metadata": {
        "id": "YUcCIPQn7zse"
      },
      "source": [
        "## Imports and Load Data"
      ]
    },
    {
      "cell_type": "code",
      "execution_count": 15,
      "metadata": {
        "id": "0Y0Lx30X909s"
      },
      "outputs": [],
      "source": [
        "import numpy as np\n",
        "from tqdm import tqdm\n",
        "# from pr3_utils import *\n",
        "import transforms3d\n",
        "from scipy import linalg\n",
        "\n",
        "# base_path = '/content/drive/MyDrive/Course Materials/2 Winter 23/ECE 276A Sensing & Estimation in Robotics/Projects/ECE276A_PR3/data/'\n",
        "base_path = './'\n",
        "\n",
        "# Load the measurements\n",
        "filename = base_path + \"/data/10.npz\"\n",
        "t,features,linear_velocity,angular_velocity,K,b,imu_T_cam = load_data(filename)\n",
        "correction_R = transforms3d.euler.euler2mat(np.pi, 0, 0)\n",
        "correction_T = np.zeros([4, 4])\n",
        "correction_T[:3, :3] = correction_R\n",
        "correction_T[-1, -1] = 1\n",
        "imu_T_cam = np.dot(correction_T, imu_T_cam)\n",
        "downsample_features = True"
      ]
    },
    {
      "cell_type": "code",
      "execution_count": 16,
      "metadata": {
        "id": "rFBUW9zRcvK4"
      },
      "outputs": [],
      "source": [
        "features = features.round().astype(int)\n",
        "if downsample_features:\n",
        "  features = features[:, ::50]\n",
        "  downsample_features = False\n",
        "hidden_features = np.ones([4, 1])*-1\n",
        "empty_features = np.zeros([4, 1])"
      ]
    },
    {
      "cell_type": "code",
      "execution_count": 17,
      "metadata": {
        "colab": {
          "base_uri": "https://localhost:8080/"
        },
        "id": "2-i7OZkN_P_y",
        "outputId": "43c15ca3-9689-4dac-d021-05a3598d0f3b"
      },
      "outputs": [
        {
          "name": "stdout",
          "output_type": "stream",
          "text": [
            "[[ 552.554261     0.         682.049453     0.       ]\n",
            " [   0.         552.554261   238.769549     0.       ]\n",
            " [ 552.554261     0.         682.049453  -331.5325566]\n",
            " [   0.         552.554261   238.769549     0.       ]]\n"
          ]
        }
      ],
      "source": [
        "Ks = np.vstack([K[:-1], K[:-1]])\n",
        "Ks = np.hstack([Ks, np.zeros([4, 1])])\n",
        "Ks[2, -1] = -K[0, 0]*b\n",
        "print(Ks)"
      ]
    },
    {
      "cell_type": "markdown",
      "metadata": {
        "id": "yRwav5qNcqxB"
      },
      "source": [
        "## Utils Functions"
      ]
    },
    {
      "cell_type": "code",
      "execution_count": 18,
      "metadata": {
        "id": "-cRPQN3_zpGg"
      },
      "outputs": [],
      "source": [
        "# noise_for_d = 0.0001\n",
        "def pixel_to_world(features, K, b, imu_T_cam, T):\n",
        "  ul, vl, d = features[0], features[1], (features[0]-features[2])\n",
        "  fsu, cu, fsv, cv = K[0, 0], K[0, 2], K[1, 1], K[1, 2]\n",
        "  x = b*(ul-cu)/d\n",
        "  y = fsu*b*( vl-cv)/(d*fsv)\n",
        "  z = fsu*b/d\n",
        "  coords = np.vstack([x, y, z, np.ones([1, z.shape[0]])])\n",
        "  return T.dot(imu_T_cam.dot(coords))\n",
        "\n",
        "def predict_z(imu_T_cam, coords, Ks, T):\n",
        "  return Ks.dot(projection(np.linalg.inv(imu_T_cam).dot(np.linalg.inv(T).dot(coords)).T).T)"
      ]
    },
    {
      "cell_type": "markdown",
      "metadata": {
        "id": "LurBqZvGczP3"
      },
      "source": [
        "## Dead Reckoning"
      ]
    },
    {
      "cell_type": "code",
      "execution_count": 19,
      "metadata": {
        "colab": {
          "base_uri": "https://localhost:8080/",
          "height": 424
        },
        "id": "UA6yNs8g1k62",
        "outputId": "99c4e648-b673-4d19-a8d5-5d2b50666033"
      },
      "outputs": [
        {
          "name": "stderr",
          "output_type": "stream",
          "text": [
            " 19%|█▉        | 588/3025 [00:00<00:00, 5879.82it/s]C:\\Users\\unays\\AppData\\Local\\Temp\\ipykernel_11700\\3507519430.py:5: RuntimeWarning: divide by zero encountered in true_divide\n",
            "  x = b*(ul-cu)/d\n",
            "C:\\Users\\unays\\AppData\\Local\\Temp\\ipykernel_11700\\3507519430.py:6: RuntimeWarning: divide by zero encountered in true_divide\n",
            "  y = fsu*b*( vl-cv)/(d*fsv)\n",
            "C:\\Users\\unays\\AppData\\Local\\Temp\\ipykernel_11700\\3507519430.py:7: RuntimeWarning: divide by zero encountered in true_divide\n",
            "  z = fsu*b/d\n",
            "100%|██████████| 3025/3025 [00:00<00:00, 6938.06it/s]\n"
          ]
        },
        {
          "data": {
            "text/plain": [
              "<matplotlib.collections.PathCollection at 0x258b5b3a5b0>"
            ]
          },
          "execution_count": 19,
          "metadata": {},
          "output_type": "execute_result"
        },
        {
          "data": {
            "image/png": "[encoded data removed]",
            "text/plain": [
              "<Figure size 640x480 with 1 Axes>"
            ]
          },
          "metadata": {},
          "output_type": "display_data"
        }
      ],
      "source": [
        "# (a) IMU Localization via EKF Prediction\n",
        "twist_matrix = np.zeros([angular_velocity.shape[1], 4, 4])\n",
        "twist_matrix[..., :3, :3] = axangle2skew(angular_velocity.T)\n",
        "twist_matrix[..., :-1, -1] = linear_velocity.T\n",
        "\n",
        "T = [np.eye(4)]\n",
        "mu = np.zeros(features.shape[:-1])\n",
        "for i in tqdm(range(twist_matrix.shape[0]-1)):\n",
        "\tT.append(np.dot(T[-1], linalg.expm((t[0, i+1]-t[0, i]) * twist_matrix[i])))\n",
        "\tvisible_features_positions = np.where(np.all(features[..., i] != hidden_features, 0))[0]\n",
        "\tvisible_features = features[:, visible_features_positions, i]\n",
        "\tmu[:, visible_features_positions] = pixel_to_world(visible_features, K, b, imu_T_cam, T[i])\n",
        " \n",
        "T = np.array(T)\n",
        "T = np.transpose(T, [1, 2, 0])\n",
        "\n",
        "plt.plot(T[0, -1], T[1, -1], c='b')\n",
        "plt.scatter(mu[0], mu[1], c='y')"
      ]
    },
    {
      "cell_type": "markdown",
      "metadata": {
        "id": "H1TNjqWXc4qF"
      },
      "source": [
        "## Landmark Mapping with EKF"
      ]
    },
    {
      "cell_type": "code",
      "execution_count": 20,
      "metadata": {
        "colab": {
          "base_uri": "https://localhost:8080/"
        },
        "id": "icA1e5447ty9",
        "outputId": "0f76216a-174b-4cf6-be0a-52107a904173"
      },
      "outputs": [
        {
          "name": "stderr",
          "output_type": "stream",
          "text": [
            "100%|██████████| 3025/3025 [00:01<00:00, 2774.38it/s]\n"
          ]
        }
      ],
      "source": [
        "P = np.hstack([np.eye(3), np.zeros([3, 1])])\n",
        "V = 3\n",
        "sigma = np.eye(3*features.shape[1]) # 3M x 3M\n",
        "mu = np.zeros([4, features.shape[1]])\n",
        "prev_features = np.where(np.all(features[..., 0]!=hidden_features, 0))[0]\n",
        "mu[:, prev_features] = pixel_to_world(features[:, prev_features, 0], K, b, imu_T_cam, T[..., 0])\n",
        "\n",
        "for timestamp in tqdm(range(1, t.shape[1])):\n",
        "  visible_features_positions = np.where(np.all(features[..., timestamp]!=hidden_features, 0))[0]\n",
        "  seen_features_positions = np.where(np.all(mu!=empty_features, 0))[0]\n",
        "  seen_features_again_positions = np.intersect1d(visible_features_positions, seen_features_positions)\n",
        "  new_features_positions = np.setdiff1d(visible_features_positions, seen_features_positions)\n",
        "\n",
        "  seen_features_again = features[:, seen_features_again_positions, timestamp]\n",
        "  seen_features_again_flatten_shape = seen_features_again.flatten('F').shape[0] # 4Nt\n",
        "  seen_features_again_positions_shape = seen_features_again_positions.shape[0] # Nt\n",
        "  new_features = features[:, new_features_positions, timestamp]\n",
        "  \n",
        "  mu[:, new_features_positions] = pixel_to_world(new_features, K, b, imu_T_cam, T[..., timestamp])\n",
        "\n",
        "  z_tilda = predict_z(imu_T_cam, mu[:, seen_features_again_positions], Ks, T[..., timestamp])\n",
        "\n",
        "  H = np.zeros([seen_features_again_flatten_shape, 3*seen_features_again_positions_shape])  # 4Nt x 3M\n",
        "  h1 = projectionJacobian(np.linalg.inv(imu_T_cam).dot(np.linalg.inv(T[..., timestamp]).dot(mu[:, seen_features_again_positions])).T)\n",
        "  h2 = np.linalg.inv(imu_T_cam).dot(np.linalg.inv(T[..., timestamp]).dot(P.T))\n",
        "  h = np.einsum('aij,jk->aik',h1,h2) \n",
        "  h = np.einsum('ij,ajl->ail',Ks,h)\n",
        "\n",
        "  for i in range(seen_features_again_positions.shape[0]):\n",
        "    H[i*4: i*4+4, i*3:i*3+3] = h[i, :, :]\n",
        "\n",
        "  IV = V*np.eye(seen_features_again_flatten_shape)\n",
        "  new_sigma = np.zeros([3*seen_features_again_positions_shape, 3*seen_features_again_positions_shape]) #  3Nt x 3Nt\n",
        "\n",
        "  for i in range(seen_features_again_positions_shape):\n",
        "    new_sigma[3*i:3*i+3, 3*i:3*i+3] = sigma[3*seen_features_again_positions[i]:3*seen_features_again_positions[i]+3, 3*seen_features_again_positions[i]:3*seen_features_again_positions[i]+3]\n",
        "\n",
        "  k_1 = new_sigma.dot(H.T)\n",
        "  k_2 = H.dot(new_sigma.dot(H.T)) + IV\n",
        "  kalman_gain = k_1.dot(np.linalg.inv(k_2))\n",
        "\n",
        "  del_z = seen_features_again - z_tilda\n",
        "  del_z = del_z.flatten('F') #  4Nt\n",
        "  K_del_z = kalman_gain.dot(del_z)\n",
        "  new_mu = mu[:3].flatten('F') #  3M\n",
        "\n",
        "  for i in range(seen_features_again_positions.shape[0]):\n",
        "    new_mu[3*seen_features_again_positions[i]:3*seen_features_again_positions[i]+3] = \\\n",
        "    new_mu[3*seen_features_again_positions[i]:3*seen_features_again_positions[i]+3] + K_del_z[3*i:3*i+3]\n",
        "\n",
        "  new_sigma = (np.eye(3*seen_features_again_positions_shape) - kalman_gain.dot(H)).dot(new_sigma)\n",
        "\n",
        "  for i in range(seen_features_again_positions_shape):\n",
        "    sigma[3*seen_features_again_positions[i]:3*seen_features_again_positions[i]+3, 3*seen_features_again_positions[i]:3*seen_features_again_positions[i]+3] = \\\n",
        "    new_sigma[3*i:3*i+3, 3*i:3*i+3]\n",
        "  \n",
        "  mu = np.vstack([new_mu.reshape([3, features.shape[1]], order='F'), np.ones([1, features.shape[1]])])"
      ]
    },
    {
      "cell_type": "code",
      "execution_count": 21,
      "metadata": {
        "colab": {
          "base_uri": "https://localhost:8080/",
          "height": 282
        },
        "id": "TuLjZ7XULScY",
        "outputId": "780b2876-ff3d-42e8-e830-511d8d89d410"
      },
      "outputs": [
        {
          "data": {
            "text/plain": [
              "<matplotlib.collections.PathCollection at 0x258b5b92f10>"
            ]
          },
          "execution_count": 21,
          "metadata": {},
          "output_type": "execute_result"
        },
        {
          "data": {
            "image/png": "[encoded data removed]",
            "text/plain": [
              "<Figure size 640x480 with 1 Axes>"
            ]
          },
          "metadata": {},
          "output_type": "display_data"
        }
      ],
      "source": [
        "plt.plot(T[0, -1], T[1, -1], c='b')\n",
        "plt.scatter(mu[0], mu[1], c='y')"
      ]
    },
    {
      "cell_type": "markdown",
      "metadata": {
        "id": "GE6Peeu_c-6c"
      },
      "source": [
        "## Visual SLAM"
      ]
    },
    {
      "cell_type": "code",
      "execution_count": 22,
      "metadata": {
        "id": "AcwJppYkDjX6"
      },
      "outputs": [],
      "source": [
        "def dot(pos):\n",
        "  Nt = pos.shape[1]\n",
        "  z = np.zeros([4, 6, Nt])\n",
        "  skew = -axangle2skew(pos[:3,:].T)\n",
        "  for i in range(Nt):\n",
        "    z[:3, :3, i] = np.eye(3)\n",
        "    z[:3, 3:6, i] = skew[i]\n",
        "  return z"
      ]
    },
    {
      "cell_type": "code",
      "execution_count": 43,
      "metadata": {
        "id": "pg3_Ra5UDiT-"
      },
      "outputs": [],
      "source": [
        "P = np.hstack([np.eye(3), np.zeros([3, 1])])\n",
        "V = 4\n",
        "world_coordinates = np.zeros([4, features.shape[1]]) # 4 x M\n",
        "prev_features = np.where(np.all(features[..., 0]!=hidden_features, 0))[0]\n",
        "world_coordinates[:, prev_features] = pixel_to_world(features[:, prev_features, 0], \n",
        "                                                     K, b, imu_T_cam, T[..., 0])\n",
        "\n",
        "# Trajectory for SLAM, t-th value updated at t-th timestamp\n",
        "SLAM_T = np.zeros([4, 4, t.shape[1]])\n",
        "SLAM_T[..., 0] = np.eye(4)\n",
        "\n",
        "SLAM_sigma_T = np.zeros([6, 6, t.shape[1]])\n",
        "SLAM_sigma = np.eye(3*features.shape[1] + 6)\n",
        "# SLAM_sigma = np.random.random([3*features.shape[1] + 6, 3*features.shape[1] + 6])\n",
        "SLAM_robot_init = np.diag([0.001, 0.001, 0.001, 0.00001, 0.00001, 0.00001])\n",
        "SLAM_sigma[3*features.shape[1]:, 3*features.shape[1]:] = SLAM_robot_init\n",
        "W = np.diag([0.1,0.01,0.01,0.00001,0.00001,0.0001])\n",
        "M = features.shape[1]"
      ]
    },
    {
      "cell_type": "code",
      "execution_count": 49,
      "metadata": {},
      "outputs": [
        {
          "name": "stderr",
          "output_type": "stream",
          "text": [
            "100%|██████████| 3025/3025 [01:03<00:00, 47.52it/s]\n"
          ]
        }
      ],
      "source": [
        "twist = np.vstack([linear_velocity, angular_velocity])\n",
        "sigma = np.zeros([6, 6, twist.shape[1]])\n",
        "\n",
        "for timestamp in tqdm(range(1, t.shape[1])):\n",
        "    # Prediction of pose for current timestamp using motion model\n",
        "    pose = twist2pose((t[0, timestamp]-t[0, timestamp-1])*\n",
        "               axangle2twist(twist[:, timestamp]))\n",
        "    SLAM_T[..., timestamp] = np.matmul(SLAM_T[..., timestamp-1], pose)\n",
        "    A =linalg.expm(-(t[0, timestamp]-t[0, timestamp-1])*axangle2adtwist(twist[:,timestamp]))\n",
        "    sigma[:,:,timestamp] = np.matmul(A,np.matmul(sigma[:,:,timestamp-1],A.T)) + W\n",
        "\n",
        "    robot_pos_pred = SLAM_T[:3, -1, timestamp]\n",
        "    robot_ori_pred = transforms3d.euler.mat2euler(SLAM_T[:3, :3, timestamp], 'sxyz')\n",
        "\n",
        "    visible_features_positions = np.where(np.all(features[..., timestamp]!=hidden_features, 0))[0]\n",
        "    seen_features_positions = np.where(np.all(world_coordinates!=empty_features, 0))[0]\n",
        "    seen_features_again_positions = np.intersect1d(visible_features_positions, seen_features_positions)\n",
        "    new_features_positions = np.setdiff1d(visible_features_positions, seen_features_positions)\n",
        "    \n",
        "    seen_features_again = features[:, seen_features_again_positions, timestamp]\n",
        "    seen_features_again_flatten_shape = seen_features_again.flatten('F').shape[0] # 4Nt\n",
        "    seen_features_again_positions_shape = seen_features_again_positions.shape[0] # Nt\n",
        "    new_features = features[:, new_features_positions, timestamp]\n",
        "    \n",
        "    # Finding world coordinates for given pixels\n",
        "    world_coordinates[:, new_features_positions] = pixel_to_world(new_features, \n",
        "                                                                  K, b, imu_T_cam, SLAM_T[..., timestamp])\n",
        "    # Flatten the visible landmarks\n",
        "    visible_landmarks = world_coordinates[:3].flatten('F')\n",
        "\n",
        "    # Update step\n",
        "    # Calculating H\n",
        "    ph = np.linalg.inv(imu_T_cam).dot(np.linalg.inv(SLAM_T[..., timestamp])\n",
        "                                      .dot(world_coordinates[:, seen_features_again_positions]))\n",
        "    projJacobian = projectionJacobian(ph.T)\n",
        "    h = np.einsum('aij,jk->aik', projJacobian, \n",
        "                   np.linalg.inv(imu_T_cam).dot(np.linalg.inv(SLAM_T[..., timestamp]).dot(P.T)))\n",
        "    h = np.einsum('ij,ajl->ail', Ks, h)\n",
        "    \n",
        "    H = np.zeros([seen_features_again_flatten_shape, visible_landmarks.shape[0]])  # 4Nt x 3M\n",
        "    for i in range(seen_features_again_positions.shape[0]):\n",
        "        H[i*4: i*4+4, i*3:i*3+3] = h[i, :, :]\n",
        "    \n",
        "    h1 = np.linalg.inv(SLAM_T[..., timestamp]).dot(world_coordinates[:, seen_features_again_positions])\n",
        "    h2 = np.einsum('ij,jkl->ikl', np.linalg.inv(imu_T_cam), dot(h1)) # 4 x 6 x NT\n",
        "    h5 = np.einsum('ijk,jli->jli', projJacobian, h2)  # 4 x 6 x NT\n",
        "    h5 = np.einsum('ij,jlk->ilk', -Ks, h5)  # 4 x 6 x NT\n",
        "    H_jacobian = np.reshape(h5, [h5.shape[0]*h5.shape[2], 6]) # 4NT x 6\n",
        "\n",
        "    SLAM_sigma[3*M: 3*M+6, 3*M:3*M+6] = sigma[:,:,timestamp] \n",
        "    SLAM_sigma[:3*M,3*M:3*M+6]=np.matmul(SLAM_sigma[:3*M,3*M:3*M+6],A.T)\n",
        "    SLAM_sigma[3*M:3*M+6,:3*M]=SLAM_sigma[:3*M,3*M:3*M+6].T\n",
        "    \n",
        "    SLAM_combined_jacobian = np.hstack([H, H_jacobian])\n",
        "    # Calculating Kalman Gain\n",
        "    IV = V*np.eye(seen_features_again_flatten_shape)\n",
        "    k1 = IV + SLAM_combined_jacobian.dot(SLAM_sigma.dot(SLAM_combined_jacobian.T))\n",
        "    kalman_gain = SLAM_sigma.dot(SLAM_combined_jacobian.T.dot(np.linalg.inv(k1)))\n",
        "    z_pred = predict_z(imu_T_cam, world_coordinates[:, seen_features_again_positions], \n",
        "                       Ks, SLAM_T[..., timestamp])\n",
        "    del_z = (seen_features_again - z_pred).flatten('F')\n",
        "    K_del_z = kalman_gain.dot(del_z)\n",
        "\n",
        "\n",
        "    visible_landmarks[np.concatenate([3*seen_features_again_positions,\n",
        "                                      3*seen_features_again_positions+1,\n",
        "                                      3*seen_features_again_positions+2])] += K_del_z[\n",
        "        np.concatenate([3*seen_features_again_positions,3*seen_features_again_positions+1,\n",
        "                            3*seen_features_again_positions+2])] # 3M X1\n",
        "\n",
        "\n",
        "    # visible_landmarks += K_del_z[:3*features.shape[1]]\n",
        "    new_mu = np.reshape(visible_landmarks, [3, features.shape[1]])\n",
        "    world_coordinates = np.vstack([new_mu, np.ones([1, features.shape[1]])])\n",
        "\n",
        "    new_pose = axangle2twist(K_del_z[3*features.shape[1]:3*features.shape[1] + 6])\n",
        "    SLAM_T[..., timestamp] = SLAM_T[..., timestamp].dot(linalg.expm(new_pose))\n",
        "\n",
        "\n",
        "    SLAM_sigma = np.matmul((np.eye(3*M+6) - np.matmul(kalman_gain,SLAM_combined_jacobian)),SLAM_sigma)\n",
        "    sigma[:,:,timestamp] = SLAM_sigma[3*M: 3*M+6, 3*M:3*M+6]"
      ]
    },
    {
      "cell_type": "code",
      "execution_count": 50,
      "metadata": {
        "id": "AkJ-ULG2bQvj"
      },
      "outputs": [
        {
          "data": {
            "text/plain": [
              "<matplotlib.collections.PathCollection at 0x258b7362df0>"
            ]
          },
          "execution_count": 50,
          "metadata": {},
          "output_type": "execute_result"
        },
        {
          "data": {
            "image/png": "[encoded data removed]",
            "text/plain": [
              "<Figure size 640x480 with 1 Axes>"
            ]
          },
          "metadata": {},
          "output_type": "display_data"
        }
      ],
      "source": [
        "plt.plot(SLAM_T[0, -1], SLAM_T[1, -1], c='b')\n",
        "plt.scatter(world_coordinates[0], world_coordinates[1], c='y')"
      ]
    },
    {
      "cell_type": "code",
      "execution_count": 26,
      "metadata": {},
      "outputs": [
        {
          "data": {
            "text/plain": [
              "array([ 5.00803576e+01,  1.20562985e+00,  4.34038017e+00,  1.27221050e+00,\n",
              "        6.39358016e-01, -3.12005675e+00, -1.70545520e-01, -3.87724405e-02,\n",
              "       -8.69961835e-01,  1.28037399e+00, -2.77403059e+00,  4.97552677e-02,\n",
              "        8.71898104e+00,  1.38889313e+00,  4.57196898e+00,  1.64092016e-02,\n",
              "        4.83840964e-01,  6.05818021e-01, -1.37559737e-01,  1.50316103e-01,\n",
              "        1.05654134e+00, -4.18745806e+00, -7.31554013e-01, -7.63585883e-01,\n",
              "       -3.32451501e+00, -1.61293117e+00,  8.39260331e-01,  1.26792612e+00,\n",
              "       -2.21295099e+00, -1.48382521e-01,  8.72702113e+00,  6.90685206e-01,\n",
              "       -9.90417147e-01,  3.86710179e-02,  2.31906998e-02, -1.14858277e+00,\n",
              "        1.71980029e+00, -6.63626848e-01, -1.61625670e-01, -1.07378072e+01,\n",
              "       -6.88403679e-01,  1.46745708e+00,  8.76148596e+00, -2.58030759e-01,\n",
              "       -1.89352292e-01, -1.54488248e-02,  6.43611038e+00, -2.32716876e+00,\n",
              "        3.94109909e-01, -2.07029005e+00, -1.11527985e-01,  1.54231664e-01,\n",
              "        1.09599073e-02, -2.21794916e-01, -2.38149376e-01,  2.18036660e+01,\n",
              "       -1.12776679e+00,  2.03927037e-01,  1.63490554e+00, -2.39105489e+00,\n",
              "       -2.92822200e+00, -1.35996423e-01,  1.27095507e+01, -3.65636650e+00,\n",
              "       -9.48440318e-02, -1.01730448e-01, -7.73280546e-01, -6.69701956e-01,\n",
              "        9.04913302e-03, -9.01773592e-01,  4.56744541e+00,  1.40358266e+00,\n",
              "       -8.84051254e-01, -7.41895093e-01, -2.14267376e+00, -1.18621716e+00,\n",
              "       -2.06928282e+00,  5.07333350e+00, -2.26921695e+01,  7.15747737e+01,\n",
              "        6.58364582e-02,  1.27644874e+00,  2.34467199e+00, -2.42851189e-01,\n",
              "       -3.74421842e+00, -5.14638750e-01,  1.79606118e+01, -6.99748859e-01,\n",
              "        4.43501797e-02, -4.63819050e+00, -3.13571154e+00, -3.11250691e+00,\n",
              "        1.84116620e-01,  1.18165042e+00, -2.02946698e+00,  1.55513204e+00,\n",
              "       -1.07130359e-01, -2.06218849e+00, -4.37666515e-01,  2.95231180e-02,\n",
              "        1.14913782e-01,  2.02780767e+00,  2.63745723e-01,  6.56336666e-02,\n",
              "       -2.86556809e-01, -1.26846670e+00, -1.02237631e+00, -1.02369334e-01,\n",
              "       -8.21825342e-01, -5.74468098e-01, -8.03978101e+00, -1.17043503e+00,\n",
              "        2.15326558e+00,  3.82233401e-01, -1.90852308e-01,  5.83621172e-01,\n",
              "        8.66320895e+00, -3.72532861e+00, -3.02243671e-01, -2.92864338e+00,\n",
              "        2.13034151e+00,  3.03783991e+01, -8.16077638e-01,  8.73959853e+00,\n",
              "        1.01764842e+00, -1.42738247e+01,  1.40133715e+01, -1.78472940e-01,\n",
              "       -8.48275351e-01,  1.88400030e-02,  5.94573330e-03, -7.23267399e-01,\n",
              "       -1.32600504e+00, -1.92690121e-01,  4.13781535e-01,  5.32382100e+00,\n",
              "        6.34507546e-02, -2.08501715e+00,  4.12493891e-01, -2.76543603e-01,\n",
              "        4.37122111e-02, -2.32925928e+00, -2.83073417e-01, -1.14815851e+01,\n",
              "       -1.45192013e+01, -7.09336485e-01, -9.37338453e-02, -2.05479779e+00,\n",
              "       -5.42121730e-04,  3.21132363e+00,  1.59970015e+01,  2.36339088e-02,\n",
              "        4.24630020e+01,  4.12717476e-02, -3.68942720e-02,  1.40750198e-01,\n",
              "       -2.30658545e-01, -1.60441003e-01,  6.97111039e+00, -2.09486183e-01,\n",
              "       -2.18600879e-01, -2.58601718e+00, -3.32100656e-01, -2.14625165e+00,\n",
              "       -1.56426555e-01, -7.02475536e-01, -1.34810359e-01, -8.80767314e-01,\n",
              "       -2.06051898e+00, -3.61788014e-01, -1.14547021e+00,  2.03450184e-01,\n",
              "        1.41677966e+00,  3.87723823e-02,  1.67340628e+00, -2.37929831e-01,\n",
              "        4.52586892e-01, -1.59593900e+00, -1.71500410e+00, -5.04879832e-01,\n",
              "        2.91542213e+01,  2.42682057e-02, -7.26241513e-01, -1.13073647e-01,\n",
              "       -5.54443168e-01,  1.29630784e+00,  1.49371524e-01, -3.91963025e-01,\n",
              "       -3.64418173e-01, -3.23800176e+00, -2.88853910e-01, -6.52712991e+00,\n",
              "       -6.28859270e+01, -7.17385766e+00, -1.75589030e+00, -3.49702839e+00,\n",
              "       -2.56831073e-02, -7.31366159e-01, -7.83009572e-01, -2.83950788e-01,\n",
              "        1.08060560e-01, -6.72866332e-01, -1.18684641e+00, -6.79652907e-01,\n",
              "        1.37850359e-02, -1.70408400e-02,  6.68193491e-02, -8.56800713e-01,\n",
              "       -5.74068935e-02,  1.10585695e-01,  5.34222706e+00,  1.90548679e+00,\n",
              "       -7.49006242e-01,  1.41325913e+00,  3.78944069e+01, -7.29705091e-01,\n",
              "        1.33208236e-02,  1.77836237e-01, -3.59321442e+01, -7.41351369e-01,\n",
              "       -1.12344684e-02,  6.22240484e-01, -1.70863492e+00, -2.55451775e-02,\n",
              "        4.54067733e-02, -2.14379334e+00, -7.81543594e-01,  1.38279485e+00,\n",
              "       -2.05524400e+00, -2.62789892e-01, -3.50511424e-01, -6.07816324e-02,\n",
              "       -2.55026453e+00, -7.86790875e-01,  1.96722768e+00,  1.62511661e+00,\n",
              "        2.54134809e-02,  8.62821341e-04, -1.10759036e-01,  1.02557078e-01,\n",
              "       -2.65711074e+01, -6.21987229e-01,  6.90293590e-01,  1.35996138e+00,\n",
              "       -6.27526769e-01,  5.24000778e+01,  1.43348759e+00,  1.38017744e+01,\n",
              "       -2.11415159e+00, -2.45320054e-01, -1.10190437e+00,  7.06878683e-01,\n",
              "       -3.32191885e+00, -3.77200925e-02, -2.19348859e-01, -2.05465912e+00,\n",
              "        1.43832366e+00,  1.59665015e+00,  3.21197698e+01,  1.52467754e+00,\n",
              "       -5.70745679e-03, -1.33649656e-01, -7.75613870e+00, -1.39769715e-02,\n",
              "        1.14657759e-01, -4.23346978e-01])"
            ]
          },
          "execution_count": 26,
          "metadata": {},
          "output_type": "execute_result"
        }
      ],
      "source": [
        "world_coordinates[0]"
      ]
    },
    {
      "cell_type": "code",
      "execution_count": 55,
      "metadata": {},
      "outputs": [
        {
          "data": {
            "text/plain": [
              "array([ 5.00803576e+01,  1.20562985e+00,  4.34038017e+00,  1.27221050e+00,\n",
              "        6.39358016e-01, -3.12005675e+00, -1.70545520e-01, -3.87724405e-02,\n",
              "       -8.69961835e-01,  1.28037399e+00, -2.77403059e+00,  4.97552677e-02,\n",
              "        8.71898104e+00,  1.38889313e+00,  4.57196898e+00,  1.64092016e-02,\n",
              "        4.83840964e-01,  6.05818021e-01, -1.37559737e-01,  1.50316103e-01,\n",
              "        1.05654134e+00, -4.18745806e+00, -7.31554013e-01, -7.63585883e-01,\n",
              "       -3.32451501e+00, -1.61293117e+00,  8.39260331e-01,  1.26792612e+00,\n",
              "       -2.21295099e+00, -1.48382521e-01,  8.72702113e+00,  6.90685206e-01,\n",
              "       -9.90417147e-01,  3.86710179e-02,  2.31906998e-02, -1.14858277e+00,\n",
              "        1.71980029e+00, -6.63626848e-01, -1.61625670e-01, -1.07378072e+01,\n",
              "       -6.88403679e-01,  1.46745708e+00,  8.76148596e+00, -2.58030759e-01,\n",
              "       -1.89352292e-01, -1.54488248e-02,  6.43611038e+00, -2.32716876e+00,\n",
              "        3.94109909e-01, -2.07029005e+00, -1.11527985e-01,  1.54231664e-01,\n",
              "        1.09599073e-02, -2.21794916e-01, -2.38149376e-01,  2.18036660e+01,\n",
              "       -1.12776679e+00,  2.03927037e-01,  1.63490554e+00, -2.39105489e+00,\n",
              "       -2.92822200e+00, -1.35996423e-01,  1.27095507e+01, -3.65636650e+00,\n",
              "       -9.48440318e-02, -1.01730448e-01, -7.73280546e-01, -6.69701956e-01,\n",
              "        9.04913302e-03, -9.01773592e-01,  4.56744541e+00,  1.40358266e+00,\n",
              "       -8.84051254e-01, -7.41895093e-01, -2.14267376e+00, -1.18621716e+00,\n",
              "       -2.06928282e+00,  5.07333350e+00, -2.26921695e+01,  7.15747737e+01,\n",
              "        6.58364582e-02,  1.27644874e+00,  2.34467199e+00, -2.42851189e-01,\n",
              "       -3.74421842e+00, -5.14638750e-01,  1.79606118e+01, -6.99748859e-01,\n",
              "        4.43501797e-02, -4.63819050e+00, -3.13571154e+00, -3.11250691e+00,\n",
              "        1.84116620e-01,  1.18165042e+00, -2.02946698e+00,  1.55513204e+00,\n",
              "       -1.07130359e-01, -2.06218849e+00, -4.37666515e-01,  2.95231180e-02,\n",
              "        1.14913782e-01,  2.02780767e+00,  2.63745723e-01,  6.56336666e-02,\n",
              "       -2.86556809e-01, -1.26846670e+00, -1.02237631e+00, -1.02369334e-01,\n",
              "       -8.21825342e-01, -5.74468098e-01, -8.03978101e+00, -1.17043503e+00,\n",
              "        2.15326558e+00,  3.82233401e-01, -1.90852308e-01,  5.83621172e-01,\n",
              "        8.66320895e+00, -3.72532861e+00, -3.02243671e-01, -2.92864338e+00,\n",
              "        2.13034151e+00,  3.03783991e+01, -8.16077638e-01,  8.73959853e+00,\n",
              "        1.01764842e+00, -1.42738247e+01,  1.40133715e+01, -1.78472940e-01,\n",
              "       -8.48275351e-01,  1.88400030e-02,  5.94573330e-03, -7.23267399e-01,\n",
              "       -1.32600504e+00, -1.92690121e-01,  4.13781535e-01,  5.32382100e+00,\n",
              "        6.34507546e-02, -2.08501715e+00,  4.12493891e-01, -2.76543603e-01,\n",
              "        4.37122111e-02, -2.32925928e+00, -2.83073417e-01, -1.14815851e+01,\n",
              "       -1.45192013e+01, -7.09336485e-01, -9.37338453e-02, -2.05479779e+00,\n",
              "       -5.42121730e-04,  3.21132363e+00,  1.59970015e+01,  2.36339088e-02,\n",
              "        4.24630020e+01,  4.12717476e-02, -3.68942720e-02,  1.40750198e-01,\n",
              "       -2.30658545e-01, -1.60441003e-01,  6.97111039e+00, -2.09486183e-01,\n",
              "       -2.18600879e-01, -2.58601718e+00, -3.32100656e-01, -2.14625165e+00,\n",
              "       -1.56426555e-01, -7.02475536e-01, -1.34810359e-01, -8.80767314e-01,\n",
              "       -2.06051898e+00, -3.61788014e-01, -1.14547021e+00,  2.03450184e-01,\n",
              "        1.41677966e+00,  3.87723823e-02,  1.67340628e+00, -2.37929831e-01,\n",
              "        4.52586892e-01, -1.59593900e+00, -1.71500410e+00, -5.04879832e-01,\n",
              "        2.91542213e+01,  2.42682057e-02, -7.26241513e-01, -1.13073647e-01,\n",
              "       -5.54443168e-01,  1.29630784e+00,  1.49371524e-01, -3.91963025e-01,\n",
              "       -3.64418173e-01, -3.23800176e+00, -2.88853910e-01, -6.52712991e+00,\n",
              "       -6.28859270e+01, -7.17385766e+00, -1.75589030e+00, -3.49702839e+00,\n",
              "       -2.56831073e-02, -7.31366159e-01, -7.83009572e-01, -2.83950788e-01,\n",
              "        1.08060560e-01, -6.72866332e-01, -1.18684641e+00, -6.79652907e-01,\n",
              "        1.37850359e-02, -1.70408400e-02,  6.68193491e-02, -8.56800713e-01,\n",
              "       -5.74068935e-02,  1.10585695e-01,  5.34222706e+00,  1.90548679e+00,\n",
              "       -7.49006242e-01,  1.41325913e+00,  3.78944069e+01, -7.29705091e-01,\n",
              "        1.33208236e-02,  1.77836237e-01, -3.59321442e+01, -7.41351369e-01,\n",
              "       -1.12344684e-02,  6.22240484e-01, -1.70863492e+00, -2.55451775e-02,\n",
              "        4.54067733e-02, -2.14379334e+00, -7.81543594e-01,  1.38279485e+00,\n",
              "       -2.05524400e+00, -2.62789892e-01, -3.50511424e-01, -6.07816324e-02,\n",
              "       -2.55026453e+00, -7.86790875e-01,  1.96722768e+00,  1.62511661e+00,\n",
              "        2.54134809e-02,  8.62821341e-04, -1.10759036e-01,  1.02557078e-01,\n",
              "       -2.65711074e+01, -6.21987229e-01,  6.90293590e-01,  1.35996138e+00,\n",
              "       -6.27526769e-01,  5.24000778e+01,  1.43348759e+00,  1.38017744e+01,\n",
              "       -2.11415159e+00, -2.45320054e-01, -1.10190437e+00,  7.06878683e-01,\n",
              "       -3.32191885e+00, -3.77200925e-02, -2.19348859e-01, -2.05465912e+00,\n",
              "        1.43832366e+00,  1.59665015e+00,  3.21197698e+01,  1.52467754e+00,\n",
              "       -5.70745679e-03, -1.33649656e-01, -7.75613870e+00, -1.39769715e-02,\n",
              "        1.14657759e-01, -4.23346978e-01])"
            ]
          },
          "execution_count": 55,
          "metadata": {},
          "output_type": "execute_result"
        }
      ],
      "source": [
        "world_coordinates[0]"
      ]
    },
    {
      "cell_type": "code",
      "execution_count": 44,
      "metadata": {
        "colab": {
          "base_uri": "https://localhost:8080/"
        },
        "id": "eYsRjBayXlXW",
        "outputId": "932bc566-f00a-49d0-e56f-0621667acfd0"
      },
      "outputs": [
        {
          "name": "stderr",
          "output_type": "stream",
          "text": [
            " 55%|█████▍    | 1659/3025 [00:34<00:28, 48.03it/s]\n"
          ]
        },
        {
          "ename": "KeyboardInterrupt",
          "evalue": "",
          "output_type": "error",
          "traceback": [
            "\u001b[1;31m---------------------------------------------------------------------------\u001b[0m",
            "\u001b[1;31mKeyboardInterrupt\u001b[0m                         Traceback (most recent call last)",
            "\u001b[1;32m~\\AppData\\Local\\Temp\\ipykernel_11472\\1315192917.py\u001b[0m in \u001b[0;36m<module>\u001b[1;34m\u001b[0m\n\u001b[0;32m     63\u001b[0m   \u001b[0mSLAM_T\u001b[0m\u001b[1;33m[\u001b[0m\u001b[1;33m...\u001b[0m\u001b[1;33m,\u001b[0m \u001b[0mtimestamp\u001b[0m\u001b[1;33m]\u001b[0m \u001b[1;33m=\u001b[0m \u001b[0mSLAM_T\u001b[0m\u001b[1;33m[\u001b[0m\u001b[1;33m...\u001b[0m\u001b[1;33m,\u001b[0m \u001b[0mtimestamp\u001b[0m\u001b[1;33m]\u001b[0m\u001b[1;33m.\u001b[0m\u001b[0mdot\u001b[0m\u001b[1;33m(\u001b[0m\u001b[0mlinalg\u001b[0m\u001b[1;33m.\u001b[0m\u001b[0mexpm\u001b[0m\u001b[1;33m(\u001b[0m\u001b[0mnew_pose\u001b[0m\u001b[1;33m)\u001b[0m\u001b[1;33m)\u001b[0m\u001b[1;33m\u001b[0m\u001b[1;33m\u001b[0m\u001b[0m\n\u001b[0;32m     64\u001b[0m \u001b[1;33m\u001b[0m\u001b[0m\n\u001b[1;32m---> 65\u001b[1;33m   SLAM_sigma = (np.eye(3*features.shape[1]+6) -\n\u001b[0m\u001b[0;32m     66\u001b[0m                 kalman_gain.dot(SLAM_combined_jacobian)).dot(SLAM_sigma)\n",
            "\u001b[1;31mKeyboardInterrupt\u001b[0m: "
          ]
        }
      ],
      "source": [
        "# old\n",
        "twist = np.vstack([linear_velocity, angular_velocity])\n",
        "for timestamp in tqdm(range(1, t.shape[1])):\n",
        "  # pose = twist2pose((t[0, timestamp]-t[0, timestamp-1])*\n",
        "  #             axangle2twist(twist[:, timestamp-1]))\n",
        "  \n",
        "  pose = twist2pose((tau[timestamp-1] * axangle2twist(twist[:,timestamp])))\n",
        "\n",
        "  SLAM_T[..., timestamp] = np.matmul(SLAM_T[..., timestamp-1], pose)\n",
        "  robot_pos_pred = SLAM_T[:3, -1, timestamp]\n",
        "  robot_ori_pred = transforms3d.euler.mat2euler(SLAM_T[:3, :3, timestamp], 'sxyz')\n",
        "\n",
        "\n",
        "  visible_features_positions = np.where(np.all(features[..., timestamp]!=hidden_features, 0))[0]\n",
        "  seen_features_positions = np.where(np.all(mu!=empty_features, 0))[0]\n",
        "  seen_features_again_positions = np.intersect1d(visible_features_positions, seen_features_positions)\n",
        "  new_features_positions = np.setdiff1d(visible_features_positions, seen_features_positions)\n",
        "  \n",
        "  seen_features_again = features[:, seen_features_again_positions, timestamp]\n",
        "  seen_features_again_flatten_shape = seen_features_again.flatten('F').shape[0] # 4Nt\n",
        "  seen_features_again_positions_shape = seen_features_again_positions.shape[0] # Nt\n",
        "  new_features = features[:, new_features_positions, timestamp]\n",
        "  \n",
        "  mu[:, new_features_positions] = pixel_to_world(new_features, K, b, imu_T_cam, T[..., timestamp])\n",
        "  \n",
        "  visible_landmarks = mu[:3].flatten('F') # 3M\n",
        "  \n",
        "  SLAM_mu = np.concatenate([visible_landmarks, robot_pos_pred, robot_ori_pred]) # 3M+6\n",
        "\n",
        "  z_tilda = predict_z(imu_T_cam, mu[:, seen_features_again_positions], Ks, SLAM_T[..., timestamp])\n",
        "\n",
        "  H = np.zeros([seen_features_again_flatten_shape, visible_landmarks.shape[0]])  # 4Nt x 3M\n",
        "  h1 = projectionJacobian(np.linalg.inv(imu_T_cam).dot(np.linalg.inv(T[..., timestamp]).dot(mu[:, seen_features_again_positions])).T)\n",
        "  h2 = np.linalg.inv(imu_T_cam).dot(np.linalg.inv(T[..., timestamp]).dot(P.T))\n",
        "  h = np.einsum('aij,jk->aik',h1,h2) \n",
        "  h = np.einsum('ij,ajl->ail',Ks,h)\n",
        "\n",
        "  for i in range(seen_features_again_positions.shape[0]):\n",
        "    H[i*4: i*4+4, i*3:i*3+3] = h[i, :, :]\n",
        "\n",
        "\n",
        "  pos_temp = np.linalg.inv(SLAM_T[..., timestamp]).dot(mu[:, seen_features_again_positions])\n",
        "  h3 = np.einsum('ij,jkl->ikl', np.linalg.inv(imu_T_cam), dot(pos_temp)) # 4 x 6 x Nt\n",
        "  h4 = np.einsum('ijk,jli->jli', h1, h3) # 4 x 6 x Nt\n",
        "  h5 = np.einsum('ij,jlk->ilk', -Ks, h4) # 4 x 6 x Nt\n",
        "  h5_ = np.reshape(h5, [h5.shape[0]*h5.shape[2], h5.shape[1]]) # 4Nt x 6\n",
        "\n",
        "  SLAM_combined_jacobian = np.hstack([H, h5_])\n",
        "\n",
        "  IV = V*np.eye(seen_features_again_flatten_shape)\n",
        "\n",
        "  k_1 = SLAM_sigma.dot(SLAM_combined_jacobian.T)\n",
        "  k_2 = SLAM_combined_jacobian.dot(k_1) + IV\n",
        "  kalman_gain = k_1.dot(np.linalg.inv(k_2))\n",
        "\n",
        "  del_z = seen_features_again - z_tilda\n",
        "  del_z = del_z.flatten('F') #  4Nt\n",
        "  K_del_z = kalman_gain.dot(del_z)\n",
        "  visible_landmarks += K_del_z[:3*features.shape[1]]\n",
        "  new_mu = np.reshape(visible_landmarks, [3, features.shape[1]])\n",
        "  mu = np.vstack([new_mu, np.ones([1, features.shape[1]])])\n",
        "\n",
        "  new_pose = axangle2twist(K_del_z)\n",
        "  SLAM_T[..., timestamp] = SLAM_T[..., timestamp].dot(linalg.expm(new_pose))\n",
        "\n",
        "  SLAM_sigma = (np.eye(3*features.shape[1]+6) -\n",
        "                kalman_gain.dot(SLAM_combined_jacobian)).dot(SLAM_sigma)"
      ]
    }
  ],
  "metadata": {
    "colab": {
      "collapsed_sections": [
        "obLDIM-f7uUa",
        "H1TNjqWXc4qF"
      ],
      "provenance": []
    },
    "kernelspec": {
      "display_name": "Python 3",
      "name": "python3"
    },
    "language_info": {
      "codemirror_mode": {
        "name": "ipython",
        "version": 3
      },
      "file_extension": ".py",
      "mimetype": "text/x-python",
      "name": "python",
      "nbconvert_exporter": "python",
      "pygments_lexer": "ipython3",
      "version": "3.9.13"
    }
  },
  "nbformat": 4,
  "nbformat_minor": 0
}
